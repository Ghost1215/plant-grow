{
  "nbformat": 4,
  "nbformat_minor": 0,
  "metadata": {
    "colab": {
      "name": "Untitled1.ipynb",
      "version": "0.3.2",
      "provenance": [],
      "collapsed_sections": []
    },
    "kernelspec": {
      "name": "python3",
      "display_name": "Python 3"
    }
  },
  "cells": [
    {
      "metadata": {
        "id": "RqLP0kvLk_rU",
        "colab_type": "code",
        "colab": {}
      },
      "cell_type": "code",
      "source": [
        "import datetime\n",
        "import hashlib"
      ],
      "execution_count": 0,
      "outputs": []
    },
    {
      "metadata": {
        "id": "qg7xljd9lUEh",
        "colab_type": "code",
        "colab": {}
      },
      "cell_type": "code",
      "source": [
        "class Block:\n",
        "  blockNo=0\n",
        "  text=None\n",
        "  next =None\n",
        "  hash = None\n",
        "  nonce=0\n",
        "  previous_hash=0x0\n",
        "  timestamp=datetime.datetime.now()\n",
        "  def _init_(self,data):\n",
        "    self.data=data\n",
        "    \n",
        "  def hash(self):\n",
        "    h=hashlib.sha256\n",
        "    h.update(\n",
        "        str(self.nonce).encode('utf-8')+\n",
        "        str(self.data).encode('utf-8')+\n",
        "        str(self.previous_hash).encode('utf-8')+\n",
        "        str(self.timestamp).encode('utf-8')+\n",
        "        str(self.blockNo).encode('utf-8')+\n",
        "    )\n",
        "    \n",
        "    return h.hexdigest()\n",
        "  \n",
        "  def _str_(self):\n",
        "    return  \"Block Hash:\"+str(self.hash()) + \"\\nBlock No:\"+ str(self,blockNo)\n",
        "    "
      ],
      "execution_count": 0,
      "outputs": []
    },
    {
      "metadata": {
        "id": "5KNeQwYAonxn",
        "colab_type": "code",
        "colab": {}
      },
      "cell_type": "code",
      "source": [
        "class Blockchain():\n",
        "  \n",
        "  block=Block(\"Genesis\")\n",
        "  \n",
        "  head=block\n",
        "  \n",
        "  def add(self,block):\n",
        "    block.previous_hash=self.block.hash()\n",
        "    block.blockNo=self.block.blockNo+1\n",
        "    \n",
        "    self.block\n",
        "   "
      ],
      "execution_count": 0,
      "outputs": []
    }
  ]
}